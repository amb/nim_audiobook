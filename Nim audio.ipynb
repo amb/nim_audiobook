{
 "cells": [
  {
   "cell_type": "markdown",
   "id": "b1687998",
   "metadata": {},
   "source": [
    "## Audio experiments"
   ]
  },
  {
   "cell_type": "code",
   "execution_count": 185,
   "id": "ab4579f9",
   "metadata": {
    "scrolled": true
   },
   "outputs": [
    {
     "data": {
      "text/html": [
       "<img src=\"data:image/png;base64, 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\" />"
      ]
     },
     "execution_count": 185,
     "metadata": {},
     "output_type": "execute_result"
    },
    {
     "data": {
      "text/plain": [
       "CPU Time [fft] 0.001s\n",
       "CPU Time [showimage] 0.018s\n"
      ]
     },
     "execution_count": 185,
     "metadata": {},
     "output_type": "execute_result"
    }
   ],
   "source": [
    "#>flags -d:blas=cblas -p:~/code/misc/jnim\n",
    "\n",
    "# Original Python code:\n",
    "# srate = 11000\n",
    "# dur = 1000\n",
    "# rr = np.arange(dur*2)\n",
    "# wave = np.sin(2*np.pi*400*rr/srate) * np.sin(0.5*np.pi*rr/dur)\n",
    "# plt.plot(rr, wave)\n",
    "# Audio(wave, rate=srate, autoplay=True)\n",
    "    \n",
    "import sequtils, std/[strutils, math, base64, strformat, times, os]\n",
    "import arraymancer, pixie, jupyternimpkg/display\n",
    "import wavfile, vorbis, fft\n",
    "\n",
    "proc pixieHTML(img: Image): string =\n",
    "    return fmt\"\"\"<img src=\"data:image/png;base64, {img.encodeImage(PngFormat).encode}\" />\"\"\"\n",
    "\n",
    "proc plot1D(img: Image, arr: openArray[float]): Image =\n",
    "    var path: seq[string] = @[]\n",
    "    \n",
    "    let amax = arr[arr.maxIndex]\n",
    "    let amin = arr[arr.minIndex]\n",
    "    \n",
    "    let mp = float(img.height)/(amax - amin)\n",
    "    \n",
    "    # For long arrays, draw <wmul> overlapping\n",
    "    let wmul = 8\n",
    "    if arr.len < img.width * wmul or false:\n",
    "        for i in 0..<arr.len:\n",
    "            let arr_v = arr[i]\n",
    "            path.add(fmt\"{int(float(i)*float(img.width)/float(arr.len))} {int((arr_v-amin) * mp)} \")\n",
    "    else:\n",
    "        for i in 0..<img.width * wmul:\n",
    "            let arr_v = arr[int(float(i)*float(arr.len)/float(img.width)) div wmul]\n",
    "            path.add(fmt\"{i div wmul} {int((arr_v-amin) * mp)} \")\n",
    "        \n",
    "    img.strokePath(fmt\"M {path[0]} L \" & path.join(\"\"), rgba(0, 0, 128, 255), strokeWidth = 1)\n",
    "    return img\n",
    "\n",
    "proc basicSine(srate: int): Tensor[system.float] =\n",
    "    let srate = float(srate)\n",
    "    let dur = 1000\n",
    "    let rr_dur = dur * 2\n",
    "    let rr = toSeq(0..<rr_dur).mapIt(it.float).toTensor()\n",
    "    return sin(rr*(2.0*PI*440.0/srate)) *. sin(rr*(0.5*PI/float(dur)))\n",
    "\n",
    "\n",
    "template benchmark(benchmarkName: string, code: untyped) =\n",
    "  block:\n",
    "    let t0 = epochTime()\n",
    "    code\n",
    "    let elapsed = epochTime() - t0\n",
    "    let elapsedStr = elapsed.formatFloat(format = ffDecimal, precision = 3)\n",
    "    echo \"CPU Time [\", benchmarkName, \"] \", elapsedStr, \"s\"\n",
    "\n",
    "let wsample = loadWav(\"sample.wav\")\n",
    "#html wsample.toHTML(false)\n",
    "#html pixieHTML(newImage(500,100).plot1D(wsample.toFloat))\n",
    "\n",
    "let srate = 11025\n",
    "let wave = basicSine(srate).toSeq\n",
    "#html Audio(wave, srate, false)\n",
    "#html pixieHTML(newImage(400, 100).plot1D(wave))\n",
    "\n",
    "#let vsample = loadVorbis(\"sample.ogg\")\n",
    "#html vsample.toHTML(false)\n",
    "#var vsf = wsample.toFloat.mapIt(complex(it))\n",
    "var vsf = wave.mapIt(complex(it))\n",
    "benchmark \"fft\":\n",
    "    fft(vsf)\n",
    "#ifft(vsf)\n",
    "let fftr = vsf.mapIt(-abs(it.re))\n",
    "benchmark \"showimage\":\n",
    "    html pixieHTML(newImage(500,100).plot1D(fftr[0..fftr.len div 2]))"
   ]
  }
 ],
 "metadata": {
  "kernelspec": {
   "display_name": "Nim",
   "language": "nim",
   "name": "jupyternimspec"
  },
  "language_info": {
   "file_extension": ".nim",
   "mimetype": "text/x-nim",
   "name": "nim",
   "version": "1.6.6"
  }
 },
 "nbformat": 4,
 "nbformat_minor": 5
}
