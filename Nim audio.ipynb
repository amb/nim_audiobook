{
 "cells": [
  {
   "cell_type": "markdown",
   "id": "c314d85e",
   "metadata": {},
   "source": [
    "## Audio experiments"
   ]
  },
  {
   "cell_type": "code",
   "execution_count": 224,
   "id": "ab4579f9",
   "metadata": {
    "scrolled": true
   },
   "outputs": [
    {
     "data": {
      "text/html": [
       "<img src=\"data:image/png;base64, iVBORw0KGgoAAAANSUhEUgAAAfQAAABkCAYAAABwx8J9AAAD/ElEQVR4Ae3cz+tlcxzH8de5N0mzUDaDhaJJykazEGXmnBtFpqGRJE3NaGTKr5KIwoz5C2zxF9hZ2N/OXZDFSBILC/oufLNQlLKwuBLbOUeT+r7ncx+P+uzf78/51HNx6y5T2oWLSX8sGTelxwSAA1Y86MMjSf4UdACYVjzo/Ykkfwg6AEwrHvTh8SS/CzoATCse9P6JJL8KOgBMKx704akkvwg6AEyrHvRnkvws6AAwrXrQTyf5SdABYFrxoPdnk+wJOgBMKx704bkkPwg6AEwrHvT+fJLvBR0AplUP+ktJvhN0AJhWPeivJPlG0AFgWvWgv5bkK0EHgGnFgz68keSyoAPAtOJB799K8oWgA8C04kEf3knymaDzPwlAq5a1F+svJtkk46b2nABwsAoH/cIiWVxKtmtBB4BphYM+XJ90bws6AMwrHPT7DiXXvSnoADCvcNAfujHpXhd0AJhXOOgP3JQsXxV0AJhXOOj94WTxsqADwLzCQT9+S7J4QdABYF7hoPe3JYvnBR0A5hUO+ur2pDsn6AAwr3DQjx9JFmcEHQDmFQ766q6kOy3oADCvcNCP350snhZ0AJhXOOj9PcniSUEHgHmFgz4cTbpTgg4A8yoH/d6ke0zQAa5K2C3Luuv29yfdo8l2nYybunMCwMErHPThWNI9LOgAMK9y0FdJ96CgA8C8wkHvh6RbCToAzKsc9F7QAeC/EXQAaICgA0ADBB0AGiDoANAAQQeABgg6ADRA0AGgAYIOAA0QdABogKADQAMEHQAasONBDwA0YVl3i75PulWyXSfjpu6cAHDwBB0AGiDoANAAQQeABgg6ADRA0AGgAYIOAA0QdABogKADQAMEHQAaIOgA0ABBB4AGCDoANEDQAaABgg4ADRB02BkBGrasu1vfJ90q2a6TcVN3TgA4eIIOAA0QdABogKADQAMEHQAaIOgA0ABBB4AGCDoANEDQAaABgg4ADRB0AGiAoANAAwQdABog6ADQAEEHgAYIOgANys5Z1t2475NulWzXybipOycAHDxBB4AGCDoANEDQAaABgg4ADRB0AGiAoANAAwQdABog6ADQAEEHgAYIOgA0QNABoAGVg34u2d6Q5Gv/5Q4A0woHfXg/6S4lOZuMH06vAQC7rWjQL9yR5Ezy3rNJfz4Zvk3Gvd3+VABwZUWDPpxItstk/CTpDyfdncm4vvIaALDblsm7HyT9yVonp5J8/s9v58OPyfajpD9Sa8Zqd3YV86Q/GccdeAPegDfw7xsYbk7689fmfYyfLpPh1qTbL3a+TLoxGfeT8bdk+DjpDhWbsdqdmafeO/ZNfBNv4Jp5Azma5MWk+7s3e9fO3N1+0u0n4+W/AOadU0xneeFxAAAAAElFTkSuQmCC\" />"
      ]
     },
     "execution_count": 224,
     "metadata": {},
     "output_type": "execute_result"
    },
    {
     "data": {
      "text/plain": [
       "CPU Time [fft] 0.001s\n",
       "\n"
      ]
     },
     "execution_count": 224,
     "metadata": {},
     "output_type": "execute_result"
    }
   ],
   "source": [
    "#>flags -d:blas=cblas -p:~/code/misc/jnim\n",
    "\n",
    "# Original Python code:\n",
    "# srate = 11000\n",
    "# dur = 1000\n",
    "# rr = np.arange(dur*2)\n",
    "# wave = np.sin(2*np.pi*400*rr/srate) * np.sin(0.5*np.pi*rr/dur)\n",
    "# plt.plot(rr, wave)\n",
    "# Audio(wave, rate=srate, autoplay=True)\n",
    "    \n",
    "import sequtils, std/[strutils, math, base64, strformat, times, os]\n",
    "import arraymancer, pixie, jupyternimpkg/display\n",
    "import wavfile, vorbis, fft\n",
    "\n",
    "proc pixieHTML(img: Image): string =\n",
    "    return fmt\"\"\"<img src=\"data:image/png;base64, {img.encodeImage(PngFormat).encode}\" />\"\"\"\n",
    "\n",
    "proc plot1D(img: Image, arr: openArray[float]): Image =\n",
    "    var path: seq[string] = @[]\n",
    "    \n",
    "    let amax = arr[arr.maxIndex]\n",
    "    let amin = arr[arr.minIndex]\n",
    "    \n",
    "    let mp = float(img.height)/(amax - amin)\n",
    "    \n",
    "    # For long arrays, draw <wmul> overlapping\n",
    "    let wmul = 8\n",
    "    if arr.len < img.width * wmul or false:\n",
    "        for i in 0..<arr.len:\n",
    "            let arr_v = arr[i]\n",
    "            path.add(fmt\"{int(float(i)*float(img.width)/float(arr.len))} {int((arr_v-amin) * mp)} \")\n",
    "    else:\n",
    "        for i in 0..<img.width * wmul:\n",
    "            let arr_v = arr[int(float(i)*float(arr.len)/float(img.width)) div wmul]\n",
    "            path.add(fmt\"{i div wmul} {int((arr_v-amin) * mp)} \")\n",
    "        \n",
    "    img.strokePath(fmt\"M {path[0]} L \" & path.join(\"\"), rgba(0, 0, 128, 255), strokeWidth = 1)\n",
    "    return img\n",
    "\n",
    "proc basicSine(srate: int): Tensor[system.float] =\n",
    "    let srate = float(srate)\n",
    "    let dur = 1000\n",
    "    let rr_dur = dur * 2\n",
    "    let rr = toSeq(0..<rr_dur).mapIt(it.float).toTensor()\n",
    "    return sin(rr*(2.0*PI*440.0/srate)) *. sin(rr*(0.5*PI/float(dur)))\n",
    "\n",
    "\n",
    "template benchmark(benchmarkName: string, code: untyped) =\n",
    "  block:\n",
    "    let t0 = epochTime()\n",
    "    code\n",
    "    let elapsed = epochTime() - t0\n",
    "    let elapsedStr = elapsed.formatFloat(format = ffDecimal, precision = 3)\n",
    "    echo \"CPU Time [\", benchmarkName, \"] \", elapsedStr, \"s\"\n",
    "\n",
    "let wsample = loadWav(\"sample.wav\")\n",
    "#html wsample.toHTML(false)\n",
    "#html pixieHTML(newImage(500,100).plot1D(wsample.toFloat))\n",
    "\n",
    "let srate = 11025\n",
    "let wave = basicSine(srate).toSeq\n",
    "#html Audio(wave, srate, false)\n",
    "#html pixieHTML(newImage(400, 100).plot1D(wave))\n",
    "\n",
    "#let vsample = loadVorbis(\"sample.ogg\")\n",
    "#html vsample.toHTML(false)\n",
    "var vsf = wave.powerOf2Pad.mapIt(complex(it))\n",
    "benchmark \"fft\":\n",
    "    fft(vsf)\n",
    "#ifft(vsf)\n",
    "#let fftr = vsf.mapIt(it.re)\n",
    "let fftr = vsf.mapIt(-abs(it))\n",
    "\n",
    "#html Audio(fftr, wsample.freq, false)\n",
    "#html pixieHTML(newImage(500,100).plot1D(fftr))\n",
    "html pixieHTML(newImage(500,100).plot1D(fftr[0..fftr.len div 2]))"
   ]
  }
 ],
 "metadata": {
  "kernelspec": {
   "display_name": "Nim",
   "language": "nim",
   "name": "jupyternimspec"
  },
  "language_info": {
   "file_extension": ".nim",
   "mimetype": "text/x-nim",
   "name": "nim",
   "version": "1.6.6"
  }
 },
 "nbformat": 4,
 "nbformat_minor": 5
}
