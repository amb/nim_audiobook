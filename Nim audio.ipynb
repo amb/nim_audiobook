{
 "cells": [
  {
   "cell_type": "code",
   "execution_count": 16,
   "id": "ab4579f9",
   "metadata": {},
   "outputs": [
    {
     "data": {
      "text/plain": []
     },
     "execution_count": 16,
     "metadata": {},
     "output_type": "execute_result"
    }
   ],
   "source": [
    "#>flags -d:blas=cblas\n",
    "\n",
    "# Original Python code:\n",
    "# srate = 11000\n",
    "# dur = 1000\n",
    "# rr = np.arange(dur*2)\n",
    "# wave = np.sin(2*np.pi*400*rr/srate) * np.sin(0.5*np.pi*rr/dur)\n",
    "# plt.plot(rr, wave)\n",
    "# Audio(wave, rate=srate, autoplay=True)\n",
    "    \n",
    "import arraymancer, sequtils, std/math\n",
    "    \n",
    "let srate = 11000.0\n",
    "let dur = 1000\n",
    "let rr = toSeq(0..<dur*2).mapIt(it.float).toTensor()\n",
    "let wave = sin(rr*(2.0*PI*400.0/srate)) #* sin(rr*(0.5*PI/float(dur)))"
   ]
  }
 ],
 "metadata": {
  "kernelspec": {
   "display_name": "Nim",
   "language": "nim",
   "name": "jupyternimspec"
  },
  "language_info": {
   "file_extension": ".nim",
   "mimetype": "text/x-nim",
   "name": "nim",
   "version": "1.6.6"
  }
 },
 "nbformat": 4,
 "nbformat_minor": 5
}
