{
 "cells": [
  {
   "cell_type": "code",
   "execution_count": 24,
   "id": "ab4579f9",
   "metadata": {
    "scrolled": true
   },
   "outputs": [
    {
     "data": {
      "text/html": [
       "        <audio controls=\"controls\" autoplay=\"autoplay\">\n",
       "        <source src=\"data:audio/wav;base64,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\" type=\"audio/wav\" />\n",
       "        Your browser does not support the audio element.\n",
       "        </audio>\n",
       "        "
      ]
     },
     "execution_count": 24,
     "metadata": {},
     "output_type": "execute_result"
    },
    {
     "data": {
      "text/plain": [
       "\n"
      ]
     },
     "execution_count": 24,
     "metadata": {},
     "output_type": "execute_result"
    }
   ],
   "source": [
    "#>flags -d:blas=cblas -p:~/code/misc/jnim\n",
    "\n",
    "# Original Python code:\n",
    "# srate = 11000\n",
    "# dur = 1000\n",
    "# rr = np.arange(dur*2)\n",
    "# wave = np.sin(2*np.pi*400*rr/srate) * np.sin(0.5*np.pi*rr/dur)\n",
    "# plt.plot(rr, wave)\n",
    "# Audio(wave, rate=srate, autoplay=True)\n",
    "    \n",
    "import arraymancer, sequtils, std/math, wav, jupyternimpkg/display\n",
    "    \n",
    "let srate = 22050.0\n",
    "let dur = 2000\n",
    "let rr = toSeq(0..<dur*2).mapIt(it.float).toTensor()\n",
    "let wave = sin(rr*(2.0*PI*400.0/srate)) .* sin(rr*(0.5*PI/float(dur)))\n",
    "\n",
    "#html loadWav(\"sample.wav\").toHTML\n",
    "html Audio(wave.toSeq, 22050)"
   ]
  }
 ],
 "metadata": {
  "kernelspec": {
   "display_name": "Nim",
   "language": "nim",
   "name": "jupyternimspec"
  },
  "language_info": {
   "file_extension": ".nim",
   "mimetype": "text/x-nim",
   "name": "nim",
   "version": "1.6.6"
  }
 },
 "nbformat": 4,
 "nbformat_minor": 5
}
